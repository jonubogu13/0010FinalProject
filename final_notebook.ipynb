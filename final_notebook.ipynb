{
 "cells": [
  {
   "cell_type": "code",
   "execution_count": 5,
   "id": "ef60161c",
   "metadata": {},
   "outputs": [
    {
     "name": "stdout",
     "output_type": "stream",
     "text": [
      "South Side Flats\n"
     ]
    }
   ],
   "source": [
    "import pandas as pd\n",
    "\n",
    "# Read the self generated, ranked datasets\n",
    "tax_nh = pd.read_csv(\"tax_ranked.tsv\", sep='\\t')\n",
    "seizures_nh = pd.read_csv(\"seizures_ranked.tsv\", sep='\\t')\n",
    "arrests_nh = pd.read_csv(\"arrests_ranked.tsv\", sep='\\t')\n",
    "\n",
    "# Discard the ones that are not present in all 3\n",
    "common_nh = set(tax_nh['Neighborhood']).intersection(set(seizures_nh['Neighborhood'])).intersection(set(arrests_nh['Neighborhood']))\n",
    "common_nh = list(common_nh)\n",
    "rank_list = []\n",
    "\n",
    "# Merge the ranks together\n",
    "for nh in common_nh:\n",
    "  tax_rank = tax_nh[tax_nh['Neighborhood']==nh].iloc[0]['Rank']\n",
    "  seizures_rank = seizures_nh[seizures_nh['Neighborhood']==nh].iloc[0]['Rank']\n",
    "  arrests_rank = arrests_nh[arrests_nh['Neighborhood']==nh].iloc[0]['Rank']\n",
    "  rank_list.append(tax_rank+seizures_rank+arrests_rank)\n",
    "\n",
    "\n",
    "# Create a DataFrame with merged ranks and sort the neighborhoods based on ranks\n",
    "finalNH = pd.DataFrame({\"Neighborhood\":common_nh, \"Total Rank\":rank_list,})\n",
    "finalNH = finalNH.sort_values(by=\"Total Rank\")\n",
    "\n",
    "# Export final ranks to a tsv and print the sole best neighborhood\n",
    "finalNH.to_csv(\"final_rank.tsv\", index=False, sep='\\t')\n",
    "\n",
    "print(finalNH.iloc[0]['Neighborhood'])"
   ]
  }
 ],
 "metadata": {
  "kernelspec": {
   "display_name": "Python 3",
   "language": "python",
   "name": "python3"
  },
  "language_info": {
   "codemirror_mode": {
    "name": "ipython",
    "version": 3
   },
   "file_extension": ".py",
   "mimetype": "text/x-python",
   "name": "python",
   "nbconvert_exporter": "python",
   "pygments_lexer": "ipython3",
   "version": "3.12.1"
  }
 },
 "nbformat": 4,
 "nbformat_minor": 5
}
